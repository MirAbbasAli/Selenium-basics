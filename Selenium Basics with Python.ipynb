{
 "cells": [
  {
   "cell_type": "markdown",
   "metadata": {},
   "source": [
    "# Introduction to Selenium with Python"
   ]
  },
  {
   "cell_type": "code",
   "execution_count": 1,
   "metadata": {},
   "outputs": [],
   "source": [
    "#import the webdriver\n",
    "from selenium import webdriver\n",
    "import time"
   ]
  },
  {
   "cell_type": "code",
   "execution_count": null,
   "metadata": {},
   "outputs": [],
   "source": [
    "## You can ignore it\n",
    "from platform import python_version\n",
    "python_version()"
   ]
  },
  {
   "cell_type": "code",
   "execution_count": null,
   "metadata": {},
   "outputs": [],
   "source": [
    "# Set executable path and open the chrome browser static way\n",
    "# note that executable_path will be depracted\n",
    "browser=webdriver.Chrome(executable_path=\"F:\\\\selenium-using-python\\\\chromedriver_win32\\\\chromedriver.exe\")\n",
    "browser.get(\"http://scholar.google.com/\")"
   ]
  },
  {
   "cell_type": "markdown",
   "metadata": {},
   "source": [
    "### 1. WebDriver Manager\n",
    "<b>webdriver_manager</b>, a library that provides the way to automatically manage drivers for different browsers in python.<br>The only setup required is to add package: <b>pip install webdriver_manager</b>\n",
    "\n",
    "### 1. For Chrome"
   ]
  },
  {
   "cell_type": "code",
   "execution_count": null,
   "metadata": {},
   "outputs": [],
   "source": [
    "# For Chrome driver\n",
    "from selenium.webdriver.chrome.service import Service\n",
    "from webdriver_manager.chrome import ChromeDriverManager\n",
    "\n",
    "chromeDriver=webdriver.Chrome(service=Service(ChromeDriverManager().install()))\n",
    "\n",
    "chromeDriver.get(\"https://www.google.co.in/\")\n",
    "print(chromeDriver.title)"
   ]
  },
  {
   "cell_type": "markdown",
   "metadata": {},
   "source": [
    "### 2. For Firefox"
   ]
  },
  {
   "cell_type": "code",
   "execution_count": null,
   "metadata": {},
   "outputs": [],
   "source": [
    "from webdriver_manager.firefox import GeckoDriverManager\n",
    "\n",
    "firefoxDriver=webdriver.Firefox(executable_path=GeckoDriverManager().install())\n",
    "firefoxDriver.get(\"https://www.google.co.in/\")\n",
    "print(firefoxDriver.title)"
   ]
  },
  {
   "cell_type": "markdown",
   "metadata": {},
   "source": [
    "### 3. For IE"
   ]
  },
  {
   "cell_type": "code",
   "execution_count": null,
   "metadata": {},
   "outputs": [],
   "source": [
    "from webdriver_manager.microsoft import IEDriverManager\n",
    "\n",
    "IEDriver=webdriver.Ie(executable_path=IEDriverManager().install())\n",
    "IEDriver.get(\"https://www.google.co.in/\")\n",
    "print(IEDriver.title)"
   ]
  },
  {
   "cell_type": "markdown",
   "metadata": {},
   "source": [
    "### 2. Browser Properties"
   ]
  },
  {
   "cell_type": "code",
   "execution_count": null,
   "metadata": {},
   "outputs": [],
   "source": [
    "#maximizes the window\n",
    "browser.maximize_window()\n",
    "#print the detail of the page\n",
    "print(\"The title of the page is \", browser.title)\n",
    "print(\"The current url is \",browser.current_url)\n",
    "#take screenshot\n",
    "browser.get_screenshot_as_file(\"F:\\\\selenium-using-python\\\\image1.png\")\n",
    "#Refresh the page\n",
    "browser.refresh()\n",
    "#sleep for 3s\n",
    "time.sleep(3)\n",
    "\n",
    "#Get source of the current page\n",
    "browser.page_source"
   ]
  },
  {
   "cell_type": "markdown",
   "metadata": {},
   "source": [
    "### Navigating the page"
   ]
  },
  {
   "cell_type": "code",
   "execution_count": null,
   "metadata": {},
   "outputs": [],
   "source": [
    "browser.get(\"https://www.google.co.in/\")\n",
    "browser.get_screenshot_as_file(\"F:\\\\selenium-using-python\\\\image2.png\")\n",
    "time.sleep(3)\n",
    "\n",
    "#Navigate one page back in history. If there is no backpage, navigate to current page\n",
    "browser.back()\n",
    "time.sleep(3)\n",
    "\n",
    "#Navigate one page forward in history. If there is no frontpgae, navigate to current page\n",
    "browser.forward()\n",
    "time.sleep(3)"
   ]
  },
  {
   "cell_type": "code",
   "execution_count": null,
   "metadata": {},
   "outputs": [],
   "source": [
    "#closes the focus tab in browser\n",
    "browser.close()"
   ]
  },
  {
   "cell_type": "code",
   "execution_count": null,
   "metadata": {},
   "outputs": [],
   "source": [
    "#closes the entire browser\n",
    "browser.quit()"
   ]
  },
  {
   "cell_type": "markdown",
   "metadata": {},
   "source": [
    "### 4. Conditional Commands - Returns boolean value\n",
    "\n",
    "- is_displayed() - Used for any kind of web element\n",
    "- is_enabled() - Used for any kind of web element\n",
    "- is_selected() - Used for radio button and checkbox"
   ]
  },
  {
   "cell_type": "code",
   "execution_count": null,
   "metadata": {},
   "outputs": [],
   "source": [
    "#Chrome driver. you can mention any desired local path of your machine\n",
    "from selenium.webdriver.chrome.service import Service\n",
    "from webdriver_manager.chrome import ChromeDriverManager\n",
    "\n",
    "driver=webdriver.Chrome(service=Service(ChromeDriverManager().install()))\n",
    "\n",
    "driver.get(\"https://demoqa.com/login\")\n",
    "print(driver.title)"
   ]
  },
  {
   "cell_type": "markdown",
   "metadata": {},
   "source": [
    "These are the attributes available for <b>By</b> class:\n",
    "1. ID=\"id\"\n",
    "2. XPATH=\"xpath\"\n",
    "3. LINK_TEXT=\"link Text\"\n",
    "4. PARTIAL_LINK_TEXT=\"partial link text\"\n",
    "5. NAME=\"name\"\n",
    "6. TAG_NAME=\"tag name\"\n",
    "7. CLASS_NAME=\"class name\"\n",
    "8. CSS_SELECTOR=\"css selector\""
   ]
  },
  {
   "cell_type": "code",
   "execution_count": null,
   "metadata": {},
   "outputs": [],
   "source": [
    "from selenium.webdriver.common.by import By\n",
    "userName=driver.find_element(By.ID,'userName')\n",
    "password=driver.find_element(By.ID, 'password')\n",
    "loginButton=driver.find_element(By.XPATH,'//button[@id=\"login\"]')\n",
    "\n",
    "#Returns true/false based of element status\n",
    "print(userName.is_displayed())\n",
    "print(password.is_enabled())\n",
    "print(loginButton.is_enabled())\n"
   ]
  },
  {
   "cell_type": "code",
   "execution_count": null,
   "metadata": {},
   "outputs": [],
   "source": [
    "yesRadio=driver.find_element(By.ID, 'yesRadio')\n",
    "print(yesRadio.is_selected())"
   ]
  },
  {
   "cell_type": "code",
   "execution_count": null,
   "metadata": {},
   "outputs": [],
   "source": [
    "driver.close()"
   ]
  },
  {
   "cell_type": "code",
   "execution_count": null,
   "metadata": {},
   "outputs": [],
   "source": [
    "userName.send_keys(\"abbas\")\n",
    "password.send_keys(\"A123456z.@\")\n",
    "loginButton.click()"
   ]
  },
  {
   "cell_type": "markdown",
   "metadata": {},
   "source": [
    "## 5. Synchronization\n",
    "### 1. Implicit Waits\n",
    "It tells the Webdriver to poll the DOM for a certain amount of time when trying to find any element (or elements) not immediately available. The default setting is 0. Once set, the implicit wait is set for the life of the WebDriver Object"
   ]
  },
  {
   "cell_type": "code",
   "execution_count": null,
   "metadata": {},
   "outputs": [],
   "source": [
    "driver.implicitly_wait(10)"
   ]
  },
  {
   "cell_type": "markdown",
   "metadata": {},
   "source": [
    "### 2. Explicit Wait"
   ]
  },
  {
   "cell_type": "code",
   "execution_count": null,
   "metadata": {},
   "outputs": [],
   "source": [
    "'''\n",
    "Created on Jan 30, 2022\n",
    "\n",
    "@author: abbas\n",
    "'''\n",
    "from selenium import webdriver\n",
    "from selenium.webdriver.support.ui import WebDriverWait\n",
    "from selenium.webdriver.support import expected_conditions as EC\n",
    "from selenium.webdriver.common.keys import Keys\n",
    "import time\n",
    "from selenium.webdriver.chrome.service import Service\n",
    "from webdriver_manager.chrome import ChromeDriverManager\n",
    "from selenium.webdriver.common.by import By\n",
    "\n",
    "global driver\n",
    "\n",
    "driver=webdriver.Chrome(service=Service(ChromeDriverManager().install()))\n",
    "driver.maximize_window()\n",
    "driver.implicitly_wait(10)\n",
    "\n",
    "url=\"https://www.expedia.co.in/\"\n",
    "#load the website\n",
    "driver.get(url)\n",
    "\n",
    "#Click on Flight tab\n",
    "driver.find_element(By.XPATH, '//*[@id=\"wizardMainRegion\"]/div/div/div/div/ul/li[2]/a').click()\n",
    "\n",
    "#Click on leaving from\n",
    "driver.find_element(By.XPATH,\"//*[@id='wizard-flight-tab-roundtrip']/div[2]/div[1]/div/div[1]/div/div/div/div[1]/button\").click()\n",
    "driver.find_element(By.XPATH,\"//*[@id='location-field-leg1-origin']\").send_keys(\"kolkata\"+Keys.ENTER)\n",
    "\n",
    "#Click on Going To\n",
    "driver.find_element(By.XPATH,'//*[@id=\"wizard-flight-tab-roundtrip\"]/div[2]/div[1]/div/div[2]/div/div/div/div[1]/button').click()\n",
    "driver.find_element(By.XPATH,'//*[@id=\"location-field-leg1-destination\"]').send_keys(\"mumbai\"+Keys.ENTER)\n",
    "\n",
    "#Click on Search Button\n",
    "driver.find_element(By.XPATH,'//*[@id=\"wizard-flight-pwa-1\"]/div[3]/div[2]/button').click()"
   ]
  },
  {
   "cell_type": "code",
   "execution_count": 32,
   "metadata": {},
   "outputs": [],
   "source": [
    "#Apply filter\n",
    "wait=WebDriverWait(driver,10)\n",
    "wait.until(EC.presence_of_element_located((By.XPATH,'//*[@id=\"stops-0\"]'))).click()\n"
   ]
  },
  {
   "cell_type": "code",
   "execution_count": 33,
   "metadata": {},
   "outputs": [],
   "source": [
    "#close the browser\n",
    "driver.quit()"
   ]
  },
  {
   "cell_type": "markdown",
   "metadata": {},
   "source": [
    "### 3. Expected Conditions\n",
    "\n",
    "There are some common conditions that are frequently of use when automating web browsers<br>\n",
    "- title_is\n",
    "- title_contains\n",
    "- presence_of_element_located\n",
    "- visibility_of_element_located\n",
    "- visibility_of\n",
    "- presence_of_all_elements_located\n",
    "- text_to_be_present_in_element\n",
    "- text_to_be_present_in_element_value\n",
    "- frame_to_be_available_and_switch_to_it\n",
    "- invisibility_of_element_located\n",
    "- element_to_be_clickable\n",
    "- staleness_of\n",
    "- element_to_be_selected\n",
    "- element_located_to_be_selected\n",
    "- element_selection_state_to_be\n",
    "- element_located_selection_state_to_be\n",
    "- alert_is_present"
   ]
  },
  {
   "cell_type": "markdown",
   "metadata": {},
   "source": [
    "## 4. Drop Down"
   ]
  },
  {
   "cell_type": "code",
   "execution_count": 37,
   "metadata": {},
   "outputs": [
    {
     "name": "stderr",
     "output_type": "stream",
     "text": [
      "\n",
      "\n",
      "====== WebDriver manager ======\n",
      "Current google-chrome version is 97.0.4692\n",
      "Get LATEST chromedriver version for 97.0.4692 google-chrome\n",
      "Driver [C:\\Users\\abbas\\.wdm\\drivers\\chromedriver\\win32\\97.0.4692.71\\chromedriver.exe] found in cache\n"
     ]
    }
   ],
   "source": [
    "from selenium.webdriver.chrome.service import Service\n",
    "from webdriver_manager.chrome import ChromeDriverManager\n",
    "from selenium.webdriver.support.select import Select\n",
    "\n",
    "driver=webdriver.Chrome(service=Service(ChromeDriverManager().install()))\n",
    "driver.maximize_window()\n",
    "driver.implicitly_wait(10)\n",
    "\n",
    "url = \"https://demoqa.com/alerts\"\n",
    "driver.get(\"https://demoqa.com/select-menu\")\n",
    "\n"
   ]
  },
  {
   "cell_type": "code",
   "execution_count": 38,
   "metadata": {},
   "outputs": [],
   "source": [
    "from selenium.webdriver.common.by import By\n",
    "element=driver.find_element(By.ID,\"oldSelectMenu\")\n",
    "oldStyleDd=Select(element)"
   ]
  },
  {
   "cell_type": "code",
   "execution_count": 39,
   "metadata": {},
   "outputs": [],
   "source": [
    "#Selecting Values\n",
    "#selecting by visible text\n",
    "oldStyleDd.select_by_visible_text(\"Yellow\")"
   ]
  },
  {
   "cell_type": "code",
   "execution_count": 43,
   "metadata": {},
   "outputs": [],
   "source": [
    "#selecting by index\n",
    "oldStyleDd.select_by_index(6)"
   ]
  },
  {
   "cell_type": "code",
   "execution_count": 45,
   "metadata": {},
   "outputs": [],
   "source": [
    "#selecting by value\n",
    "oldStyleDd.select_by_value(\"5\")"
   ]
  },
  {
   "cell_type": "code",
   "execution_count": null,
   "metadata": {},
   "outputs": [],
   "source": [
    "#count the no. of option in the drop down\n",
    "print(len(oldStyleDd.options))"
   ]
  },
  {
   "cell_type": "code",
   "execution_count": null,
   "metadata": {},
   "outputs": [],
   "source": [
    "#Count all the option and print them\n",
    "all_options=[option.text for option in oldStyleDd.options]\n",
    "print(all_options)"
   ]
  },
  {
   "cell_type": "markdown",
   "metadata": {},
   "source": [
    "## 5. Handling Alerts"
   ]
  },
  {
   "cell_type": "code",
   "execution_count": 51,
   "metadata": {},
   "outputs": [
    {
     "name": "stderr",
     "output_type": "stream",
     "text": [
      "\n",
      "\n",
      "====== WebDriver manager ======\n",
      "Current google-chrome version is 97.0.4692\n",
      "Get LATEST chromedriver version for 97.0.4692 google-chrome\n",
      "Driver [C:\\Users\\abbas\\.wdm\\drivers\\chromedriver\\win32\\97.0.4692.71\\chromedriver.exe] found in cache\n"
     ]
    }
   ],
   "source": [
    "from selenium.webdriver.chrome.service import Service\n",
    "from webdriver_manager.chrome import ChromeDriverManager\n",
    "from selenium.webdriver.support.select import Select\n",
    "from selenium.webdriver.support.ui import WebDriverWait\n",
    "from selenium.webdriver.support import expected_conditions as EC\n",
    "from selenium.webdriver.common.by import By\n",
    "\n",
    "driver=webdriver.Chrome(service=Service(ChromeDriverManager().install()))\n",
    "driver.maximize_window()\n",
    "driver.implicitly_wait(10)\n",
    "\n",
    "url = \"https://demoqa.com/alerts\"\n",
    "driver.get(url)"
   ]
  },
  {
   "cell_type": "code",
   "execution_count": 53,
   "metadata": {},
   "outputs": [
    {
     "name": "stdout",
     "output_type": "stream",
     "text": [
      "This alert appeared after 5 seconds\n"
     ]
    }
   ],
   "source": [
    "driver.find_element(By.ID,'timerAlertButton').click()\n",
    "wait=WebDriverWait(driver,10)\n",
    "wait.until(EC.alert_is_present())\n",
    "\n",
    "# Store the alert in a variable for reuse\n",
    "alert = driver.switch_to.alert\n",
    "\n",
    "# Type your message\n",
    "text=alert.text\n",
    "print(text)\n",
    "\n",
    "# Press the OK button\n",
    "alert.accept()"
   ]
  },
  {
   "cell_type": "code",
   "execution_count": 56,
   "metadata": {},
   "outputs": [
    {
     "name": "stdout",
     "output_type": "stream",
     "text": [
      "Do you confirm action?\n"
     ]
    }
   ],
   "source": [
    "driver.find_element(By.ID,'confirmButton').click()\n",
    "wait.until(EC.alert_is_present())\n",
    "\n",
    "alert=driver.switch_to.alert\n",
    "\n",
    "print(alert.text)\n",
    "\n",
    "#Press the cancel button\n",
    "alert.dismiss()"
   ]
  },
  {
   "cell_type": "code",
   "execution_count": 60,
   "metadata": {},
   "outputs": [],
   "source": [
    "driver.find_element(By.ID,'promtButton').click()\n",
    "\n",
    "wait.until(EC.alert_is_present())\n",
    "\n",
    "from selenium.webdriver.common.alert import Alert\n",
    "import time\n",
    "#store the alert in a variable for reuse\n",
    "alert=Alert(driver)\n",
    "\n",
    "alert.send_keys(\"Abbas\")\n",
    "time.sleep(5)\n",
    "alert.accept()"
   ]
  },
  {
   "cell_type": "markdown",
   "metadata": {},
   "source": [
    "### 6. Handling browser Windows"
   ]
  },
  {
   "cell_type": "code",
   "execution_count": 2,
   "metadata": {},
   "outputs": [],
   "source": [
    "from selenium.webdriver.chrome.service import Service\n",
    "from webdriver_manager.chrome import ChromeDriverManager\n",
    "from selenium import webdriver\n",
    "from selenium.webdriver.common.by import By\n",
    "from selenium.webdriver.support.ui import WebDriverWait\n",
    "from selenium.webdriver.support import expected_conditions as EC\n",
    "import time\n",
    "\n",
    "\n",
    "def launchBrowser():\n",
    "    driver=webdriver.Chrome(service=Service(ChromeDriverManager().install()))\n",
    "    url = \"https://demoqa.com/alertsWindows\"\n",
    "    driver.get(url)\n",
    "    driver.maximize_window()\n",
    "    return driver"
   ]
  },
  {
   "cell_type": "code",
   "execution_count": 38,
   "metadata": {},
   "outputs": [
    {
     "name": "stderr",
     "output_type": "stream",
     "text": [
      "\n",
      "\n",
      "====== WebDriver manager ======\n",
      "Current google-chrome version is 97.0.4692\n",
      "Get LATEST chromedriver version for 97.0.4692 google-chrome\n",
      "Driver [C:\\Users\\abbas\\.wdm\\drivers\\chromedriver\\win32\\97.0.4692.71\\chromedriver.exe] found in cache\n"
     ]
    }
   ],
   "source": [
    "demoqa=launchBrowser()"
   ]
  },
  {
   "cell_type": "code",
   "execution_count": 39,
   "metadata": {},
   "outputs": [
    {
     "name": "stdout",
     "output_type": "stream",
     "text": [
      "Parent window CDwindow-33528C099CE2F0457FBE09F717519797\n",
      "['CDwindow-33528C099CE2F0457FBE09F717519797', 'CDwindow-A82D7CB1894C4850871F453E66DEE5DD']\n",
      "ToolsQA\n",
      "\n"
     ]
    }
   ],
   "source": [
    "wait=WebDriverWait(demoqa,15)\n",
    "wait.until(EC.presence_of_element_located((By.XPATH,'/html/body/div[2]/div/div/div[2]/div[1]/div/div/div[3]/div/ul/li[1]'))).click()\n",
    "# Get the current window handle\n",
    "print(\"Parent window\", demoqa.current_window_handle)\n",
    "\n",
    "wait.until(EC.element_to_be_clickable((By.ID,'tabButton'))).click()\n",
    "    \n",
    "# Return the list of handles\n",
    "handles=demoqa.window_handles\n",
    "print(handles)\n",
    "    \n",
    "for handle in handles:\n",
    "    ## Switch to the given tab handle\n",
    "    demoqa.switch_to.window(handle)\n",
    "    print(demoqa.title,end=\"\\n\")\n",
    "    if demoqa.title=='':\n",
    "        demoqa.close()\n",
    "        "
   ]
  },
  {
   "cell_type": "code",
   "execution_count": 35,
   "metadata": {},
   "outputs": [
    {
     "data": {
      "text/plain": [
       "'ToolsQA'"
      ]
     },
     "execution_count": 35,
     "metadata": {},
     "output_type": "execute_result"
    }
   ],
   "source": [
    "demoqa.switch_to.window(handles[0])\n",
    "demoqa.title"
   ]
  },
  {
   "cell_type": "code",
   "execution_count": 37,
   "metadata": {},
   "outputs": [],
   "source": [
    "demoqa.quit()"
   ]
  },
  {
   "cell_type": "markdown",
   "metadata": {},
   "source": [
    "### 7. Scrolling down Webpages\n",
    "1. <b>Scroll down the page by pixel</b><br>driver.execute_script(\"window.scrollBy(0,500)\",\")\n",
    "2. <b>Scroll down the page till element found</b><br>driver.execute_script(\"arguments[0].scrollIntoView();\",Element)\n",
    "3. <b>Scroll to end of the page</b><br>driver.execute_script(\"window.scrollBy(0,document.body.scrollHeight)\")"
   ]
  },
  {
   "cell_type": "code",
   "execution_count": 1,
   "metadata": {},
   "outputs": [
    {
     "name": "stderr",
     "output_type": "stream",
     "text": [
      "\n",
      "\n",
      "====== WebDriver manager ======\n",
      "Current google-chrome version is 98.0.4758\n",
      "Get LATEST chromedriver version for 98.0.4758 google-chrome\n",
      "There is no [win32] chromedriver for browser  in cache\n",
      "Trying to download new driver from https://chromedriver.storage.googleapis.com/98.0.4758.80/chromedriver_win32.zip\n",
      "Driver has been saved in cache [C:\\Users\\abbas\\.wdm\\drivers\\chromedriver\\win32\\98.0.4758.80]\n"
     ]
    }
   ],
   "source": [
    "from selenium import webdriver\n",
    "from selenium.webdriver.chrome.service import Service\n",
    "from webdriver_manager.chrome import ChromeDriverManager\n",
    "\n",
    "selDriver=webdriver.Chrome(service=Service(ChromeDriverManager().install()))\n",
    "url=\"https://www.selenium.dev/\"\n",
    "selDriver.get(url)\n",
    "selDriver.maximize_window()"
   ]
  },
  {
   "cell_type": "code",
   "execution_count": 3,
   "metadata": {},
   "outputs": [],
   "source": [
    "## Scroll down by pixel\n",
    "selDriver.execute_script(\"window.scrollBy(0,1000)\",\"\")"
   ]
  },
  {
   "cell_type": "code",
   "execution_count": 6,
   "metadata": {},
   "outputs": [],
   "source": [
    "## Scroll down page till the element is visible\n",
    "from selenium.webdriver.common.by import By\n",
    "imgElement=selDriver.find_element(By.XPATH,'/html/body/div/main/div[4]/div[7]/a/img')\n",
    "selDriver.execute_script(\"arguments[0].scrollIntoView();\",imgElement)"
   ]
  },
  {
   "cell_type": "code",
   "execution_count": 9,
   "metadata": {},
   "outputs": [],
   "source": [
    "## Scroll down page till end\n",
    "selDriver.execute_script(\"window.scrollBy(0,document.body.scrollHeight)\")"
   ]
  },
  {
   "cell_type": "markdown",
   "metadata": {},
   "source": [
    "### 8. Mouse Action\n",
    "\n",
    "1. <b>Mouse Hover</b>"
   ]
  },
  {
   "cell_type": "code",
   "execution_count": 1,
   "metadata": {},
   "outputs": [
    {
     "name": "stderr",
     "output_type": "stream",
     "text": [
      "\n",
      "\n",
      "====== WebDriver manager ======\n",
      "Current google-chrome version is 98.0.4758\n",
      "Get LATEST chromedriver version for 98.0.4758 google-chrome\n",
      "Trying to download new driver from https://chromedriver.storage.googleapis.com/98.0.4758.80/chromedriver_win32.zip\n",
      "Driver has been saved in cache [C:\\Users\\abbas\\.wdm\\drivers\\chromedriver\\win32\\98.0.4758.80]\n"
     ]
    }
   ],
   "source": [
    "from selenium import webdriver\n",
    "from selenium.webdriver.chrome.service import Service\n",
    "from webdriver_manager.chrome import ChromeDriverManager\n",
    "\n",
    "\n",
    "driver=webdriver.Chrome(service=Service(ChromeDriverManager().install()))\n",
    "url=\"https://opensource-demo.orangehrmlive.com/index.php/auth/login\"\n",
    "driver.get(url)\n",
    "driver.maximize_window()"
   ]
  },
  {
   "cell_type": "code",
   "execution_count": 2,
   "metadata": {},
   "outputs": [],
   "source": [
    "from selenium.webdriver.common.by import By\n",
    "driver.find_element(By.ID, 'txtUsername').send_keys(\"Admin\")\n",
    "driver.find_element(By.ID,'txtPassword').send_keys(\"admin123\")\n",
    "driver.find_element(By.ID,'btnLogin').click()"
   ]
  },
  {
   "cell_type": "code",
   "execution_count": 10,
   "metadata": {
    "scrolled": true
   },
   "outputs": [],
   "source": [
    "from selenium.webdriver.common.action_chains import ActionChains\n",
    "admin=driver.find_element(By.XPATH,'//*[@id=\"menu_admin_viewAdminModule\"]/b')\n",
    "userMgmt=driver.find_element(By.ID,'menu_admin_UserManagement')\n",
    "user=driver.find_element(By.ID,'menu_admin_viewSystemUsers')\n",
    "\n",
    "actions=ActionChains(driver)\n",
    "actions.move_to_element(admin).move_to_element(userMgmt).move_to_element(user).click().perform()"
   ]
  },
  {
   "cell_type": "code",
   "execution_count": 1,
   "metadata": {},
   "outputs": [],
   "source": [
    "from selenium import webdriver\n",
    "from selenium.webdriver.chrome.service import Service\n",
    "from webdriver_manager.chrome import ChromeDriverManager\n",
    "\n",
    "def launchBrowser(url):\n",
    "    driver=webdriver.Chrome(service=Service(ChromeDriverManager().install()))\n",
    "    driver.get(url)\n",
    "    driver.maximize_window()\n",
    "    return driver"
   ]
  },
  {
   "cell_type": "code",
   "execution_count": 13,
   "metadata": {},
   "outputs": [
    {
     "name": "stderr",
     "output_type": "stream",
     "text": [
      "\n",
      "\n",
      "====== WebDriver manager ======\n",
      "Current google-chrome version is 98.0.4758\n",
      "Get LATEST chromedriver version for 98.0.4758 google-chrome\n",
      "Driver [C:\\Users\\abbas\\.wdm\\drivers\\chromedriver\\win32\\98.0.4758.80\\chromedriver.exe] found in cache\n"
     ]
    }
   ],
   "source": [
    "driver=launchBrowser('http://testautomationpractice.blogspot.com/')"
   ]
  },
  {
   "cell_type": "markdown",
   "metadata": {},
   "source": [
    "2. <b>Double Click</b>"
   ]
  },
  {
   "cell_type": "code",
   "execution_count": 14,
   "metadata": {},
   "outputs": [],
   "source": [
    "from selenium.webdriver.common.by import By\n",
    "from selenium.webdriver.common.action_chains import ActionChains\n",
    "\n",
    "btn=driver.find_element(By.XPATH,'//*[@id=\"HTML10\"]/div[1]/button')\n",
    "action=ActionChains(driver)\n",
    "action.double_click(btn).perform()"
   ]
  },
  {
   "cell_type": "markdown",
   "metadata": {},
   "source": [
    "3. <b>Right Click</b>"
   ]
  },
  {
   "cell_type": "code",
   "execution_count": 16,
   "metadata": {},
   "outputs": [
    {
     "name": "stderr",
     "output_type": "stream",
     "text": [
      "\n",
      "\n",
      "====== WebDriver manager ======\n",
      "Current google-chrome version is 98.0.4758\n",
      "Get LATEST chromedriver version for 98.0.4758 google-chrome\n",
      "Driver [C:\\Users\\abbas\\.wdm\\drivers\\chromedriver\\win32\\98.0.4758.80\\chromedriver.exe] found in cache\n"
     ]
    }
   ],
   "source": [
    "driver=launchBrowser('https://swisnl.github.io/jQuery-contextMenu/demo.html')"
   ]
  },
  {
   "cell_type": "code",
   "execution_count": 19,
   "metadata": {},
   "outputs": [],
   "source": [
    "from selenium.webdriver.common.by import By\n",
    "from selenium.webdriver.common.action_chains import ActionChains\n",
    "\n",
    "action=ActionChains(driver)\n",
    "\n",
    "element=driver.find_element(By.XPATH,'/html/body/div/section/div/div/div/p/span')\n",
    "action.context_click(element).perform()"
   ]
  },
  {
   "cell_type": "markdown",
   "metadata": {},
   "source": [
    "4. <b>Drag and Drop</b>"
   ]
  },
  {
   "cell_type": "code",
   "execution_count": 35,
   "metadata": {},
   "outputs": [
    {
     "name": "stderr",
     "output_type": "stream",
     "text": [
      "\n",
      "\n",
      "====== WebDriver manager ======\n",
      "Current google-chrome version is 98.0.4758\n",
      "Get LATEST chromedriver version for 98.0.4758 google-chrome\n",
      "Driver [C:\\Users\\abbas\\.wdm\\drivers\\chromedriver\\win32\\98.0.4758.80\\chromedriver.exe] found in cache\n"
     ]
    }
   ],
   "source": [
    "driver=launchBrowser('http://www.dhtmlgoodies.com/scripts/drag-drop-custom/demo-drag-drop-3.html')"
   ]
  },
  {
   "cell_type": "code",
   "execution_count": 36,
   "metadata": {},
   "outputs": [],
   "source": [
    "from selenium.webdriver.common.action_chains import ActionChains\n",
    "capitals={'Oslo':'Norway','Stockholm':'Sweden','Washington':'United States','Copenhagen':'Denmark','Seoul':'South Korea','Rome':'Italy','Madrid':'Spain'}\n",
    "capital=capitals.keys()\n",
    "action=ActionChains(driver)\n",
    "\n",
    "for capital in capitals:\n",
    "    country=capitals[capital]\n",
    "    sourceElement=driver.find_element(By.XPATH,\"//*[text()='\"+capital+\"' and starts-with(@id,'box')]\")\n",
    "    targetElement=driver.find_element(By.XPATH,\"//*[text()='\"+country+\"' and starts-with(@id,'box')]\")\n",
    "    action.drag_and_drop(sourceElement,targetElement).perform()"
   ]
  },
  {
   "cell_type": "code",
   "execution_count": 37,
   "metadata": {},
   "outputs": [],
   "source": [
    "driver.quit()"
   ]
  },
  {
   "cell_type": "code",
   "execution_count": 34,
   "metadata": {},
   "outputs": [
    {
     "name": "stdout",
     "output_type": "stream",
     "text": [
      "Hello world\n"
     ]
    }
   ],
   "source": [
    "print('Hello world')"
   ]
  },
  {
   "cell_type": "markdown",
   "metadata": {},
   "source": [
    "### 8. Working with Frames\n",
    "1. <b>switch_to_frame(id) </b>: This method is used to identify a frame with the help of frame id and then switch the focus to that particular frame.\n",
    "2. <b>switch_to_frame(name) </b>: This method is used to identify a frame with the help of frame name and then switch the focus to that particular frame.\n",
    "3. <b>switch_to_frame(webelement) </b>: This method is used to identify a frame with the help of frame webelement and then switch the focus to that particular frame.\n",
    "4. <b>switch_to_parent_frame() </b>: This method is used to come out of the present frame, then we can access the elements outside that frame and not inside of that frame.\n",
    "5. <b>switch_to_default_content() </b>: This method is used to come out of all the frames and switch the focus at that page. Once we move out, it loses the access to the elements inside the frames in the page."
   ]
  },
  {
   "cell_type": "code",
   "execution_count": 34,
   "metadata": {},
   "outputs": [],
   "source": [
    "#driver=launchBrowser('http://demo.automationtesting.in/Frames.html')\n",
    "\n",
    "from selenium.webdriver.common.by import By\n",
    "import time\n",
    "\n",
    "driver.implicitly_wait(10)\n",
    "driver.find_element(By.XPATH,'/html/body/section/div[1]/div/div/div/div[1]/div/ul/li[1]/a').click()\n",
    "driver.switch_to.frame('singleframe')\n",
    "text1=driver.find_element(By.XPATH,'/html/body/section/div/div/div/input')\n",
    "text1.clear()\n",
    "text1.send_keys(\"Writing in Single Frame\")\n",
    "time.sleep(5)\n",
    "driver.switch_to.default_content()\n",
    "driver.find_element(By.XPATH,'/html/body/section/div[1]/div/div/div/div[1]/div/ul/li[2]/a').click()\n",
    "parentFrame=driver.find_element(By.XPATH,'//*[@id=\"Multiple\"]/iframe')\n",
    "driver.switch_to.frame(parentFrame)\n",
    "childFrame=driver.find_element(By.XPATH,'/html/body/section/div/div/iframe')\n",
    "driver.switch_to.frame(childFrame)\n",
    "text2=driver.find_element(By.XPATH,'/html/body/section/div/div/div/input')\n",
    "text2.clear()\n",
    "text2.send_keys(\"Testing..\")\n",
    "time.sleep(5)\n",
    "driver.switch_to.default_content()\n",
    "driver.find_element(By.XPATH,'/html/body/section/div[1]/div/div/div/div[1]/div/ul/li[1]/a').click()"
   ]
  },
  {
   "cell_type": "markdown",
   "metadata": {},
   "source": [
    "### 9. Logging\n",
    "#### Log Levels : It corresponds to the 'importance' a log is given.<br>Threshold point in python is set from Warning\n",
    "- Debug\n",
    "- INFO: can be ignored\n",
    "- WARNING: can be ignored\n",
    "- ERROR : important to look\n",
    "- CRITICAL : important to look\n",
    "\n",
    "The logging module provides a utility function called basicConfig that handles a majority of use cases. Some common property for basicConfig() are the following:\n",
    "1. level: The root logger will set to the severity level\n",
    "2. filename: This specifies the file(use \\\\ for path)\n",
    "3. filemode: If filename is given, the file is opened in this mode. The default is 'a', which means append\n",
    "4. format: This is the format of the log message"
   ]
  },
  {
   "cell_type": "code",
   "execution_count": null,
   "metadata": {},
   "outputs": [],
   "source": [
    "# Python provided built-in library\n",
    "import logging\n",
    "\n",
    "logging.basicConfig(filename=\"C:\\\\Users\\\\abbas\\\\Desktop\\\\demo-log.log\",format='%(asctime)s: %(levelname)s: %(message)s',\n",
    "                    datefmt='%m/%d/%Y %I:%M:%S %p',filemode='a')\n",
    "# logging.basicConfig(filename=\"C:\\\\Users\\\\abbas\\\\Desktop\\\\demo-log.log\",\n",
    "#                     format='%(asctime)s %(message)s',\n",
    "#                     filemode='w')\n",
    "logger=logging.getLogger()\n",
    "\n",
    "# Setting the threshold level of logger to DEBUG\n",
    "logger.setLevel(logging.DEBUG)\n",
    "\n",
    "logger.debug(\"This is a debug message\")\n",
    "logger.info(\"This is a info message\")\n",
    "logger.warning(\"This is a warning message\")\n",
    "logger.error(\"This is a error message\")\n",
    "logger.critical(\"This is a critical message\")\n"
   ]
  },
  {
   "cell_type": "markdown",
   "metadata": {},
   "source": [
    "### 10. Unit Testing with Python\n",
    "#### unittest Framework (Run as Python unit-test)\n",
    "<b>Unittest or PyUnit</b> is the standard test automation framework for unit testing that comes along with Python.<br> \n",
    "\n",
    "It majorly helps in creating and organizing the unit testing code.<br>\n",
    "\n",
    "It supports test automation, sharing of setup and closure codes for tests, grouping of tests into test suites, and independence of the tests from the reporting framework.<br>\n",
    "\n",
    "To achieve this, unittest supports some important concepts in an object-oriented way:\n",
    "\n",
    "1. <b>test fixture</b> eg., setUp(), tearDown(), setUpClass(), tearDownClass(), setUpModule() and tearDownModule()<br>\n",
    "\n",
    "A test fixture represents the preparation needed before the beginning of the one or more tests, and any associate closure activity. This may involve, for example, creating a browser instance and closing the browsing session.<br><br>\n",
    "\n",
    "> setUp(): This is called immediately before calling any of the test methods. If this method raises an exception during the run, the framework will conside the test to have an error, and the execution of all the test methods including tearDown() method will be ignored.<br><br>\n",
    ">tearDown(): This method is called immediately after all the test method have completed their execution. If setUp() succeded, tearDown() will be executed irrespective of whether the test method succceds.<br><br>\n",
    ">setUpClass(): A class method called before all the tests in an individual class have run. This is called with the class as the only argument and must be decorated with @classmethod annotation.<br><br>\n",
    ">tearDownClass(): A class method called after all the tests in an individual class has run. This method is called with the class as the only argument and must be decorated with @classmethod annotation<br><br>\n",
    ">setUpModule(): A method called before the execution of any component of a module.<br><br>\n",
    ">tearDownModule(): A method called after the execution of all the components of a module.<br><br>\n",
    "\n",
    "2. <b>test case</b><br>\n",
    "\n",
    "A test case is an individual unit of testing. It checks for a specific response to a particular set of inputs. unittest provides a base class, \"TestCase\", which may be used to create new test cases.<br><br>\n",
    "\n",
    "3. <b>test suite</b><br>\n",
    "\n",
    "A test suite is a collection of test cases, test suites, or both. It is used to group tests that should be executed together.<br><br>\n",
    "\n",
    "4. <b>test runner</b> eg. HtmlTestRunner and Allure<br>\n",
    "\n",
    "A test runner is a component which orchestrates the execution of tests and provides the outcome to the user. The runner may use a graphical interface, a textual interface, or return a special value to indicate the results of executing the tests.<br><br>"
   ]
  },
  {
   "cell_type": "markdown",
   "metadata": {},
   "source": [
    "### Assertions: \n",
    "#### An assertion allows to validate the correctness of any assumptions that have been made in the program.<br> unittest provides us with some basic methods to check for various conditions\n",
    "assertEqual(a,b)<br>\n",
    "assertNotEqual(a,b)<br>\n",
    "assertTrue(x)<br>\n",
    "assertFalse(x)<br>\n",
    "assertIs(a,b)<br>\n",
    "assertIsNot(a,b)<br>\n",
    "assertIsNotNone(x)<br>\n",
    "assertIn(a,b)<br>\n",
    "assertNotIn(a,b)<br>\n",
    "assertGreater(a,b)<br>\n",
    "assertGreaterEqual(a,b)<br>\n",
    "assertLess(a,b)<br>\n",
    "assertLessEqual(a,b)<br>\n",
    "assertRegex(s,r)=r.search(s)<br>\n",
    "<b>assertRaises(Exception,function,value)<b><br>"
   ]
  },
  {
   "cell_type": "markdown",
   "metadata": {},
   "source": [
    "#### expectedFailure decorator\n",
    "Whenever a function is expected to raise an error, the same can be described in the unit testing using a decorator <b>@unittest.expectedFailure.</b><br><br>\n",
    "\n",
    "A test method marked with this decorator will be expected to raise/receive an error only then the status of the test method will be asuccess else the status will be a failure."
   ]
  },
  {
   "cell_type": "code",
   "execution_count": null,
   "metadata": {},
   "outputs": [],
   "source": [
    "## Making necessary imports\n",
    "import unittest\n",
    "from test.circle import Circle\n",
    "from math import pi\n",
    "\n",
    "object1=None\n",
    "#setUpModule-instantiates the objects and returns the same\n",
    "def setUpModule():\n",
    "    object1=Circle()\n",
    "    print(\"Module\")\n",
    "    return object1\n",
    "\n",
    "#tearDownModule-uninstantiates the objects\n",
    "def tearDownModule():\n",
    "    print(\"tear down module\")\n",
    "    object1=None\n",
    "    \n",
    "\n",
    "class Test1(unittest.TestCase):\n",
    "    radius=-2\n",
    "    #setUpClass creates a list of test data\n",
    "    @classmethod\n",
    "    def setUpClass(cls):\n",
    "        cls.a=[-2,3-2j,True, 10]\n",
    "        \n",
    "    @classmethod\n",
    "    def tearDownClass(cls):\n",
    "        print(\"In tear down class method\")\n",
    "        \n",
    "    def setUp(self):\n",
    "        print(\"before test method\")\n",
    "        \n",
    "    def tearDown(self):\n",
    "        print(\"after test method\")\n",
    "    \n",
    "    def test_3(self):\n",
    "        # test when radius > 0\n",
    "        cObject=setUpModule()\n",
    "        self.assertAlmostEqual(cObject.circle_area(self.a[3]),pi*100)\n",
    "    \n",
    "    @unittest.skipIf(radius<0,\"negative_value\")\n",
    "    @unittest.expectedFailure\n",
    "    def test_4(self):\n",
    "        setUpModule().circle_area(self.a[0])\n",
    "    \n",
    "    @unittest.skipUnless(type(radius) in [int, float], \"Non-numeric value\")\n",
    "    @unittest.expectedFailure\n",
    "    def test_5(self):\n",
    "        setUpModule().circle_area(self.a[1])\n",
    "    \n",
    "    @unittest.expectedFailure    \n",
    "    def test_2(self):\n",
    "        cObject=setUpModule()\n",
    "        self.assertRaises(TypeError,cObject.circle_area(self.a[1]))\n",
    "        \n",
    "    @unittest.expectedFailure    \n",
    "    def test_1(self):\n",
    "        print(\"test1\")\n",
    "        print(setUpModule().circle_area(self.a[0]))"
   ]
  },
  {
   "cell_type": "markdown",
   "metadata": {},
   "source": [
    "### Test Suite\n",
    "> The <b>TestLoader class</b> is used to create test suites from classes and modules. There is no need to create an instance of this class; the unittest module provides an instance that can be shared as unittest.defaultTestLoader.<br><br>\n",
    "> <b>unittest.TestLoader().loadTestsFromTestcase(\"name of the class\") </b>- loads all the test methods from the class specified and creates a suite of all tests cases contained in the TestCase derived from testCaseClass.<br><br>\n",
    "> <b>unittest.TestSuite(\"List of TestCase\") - </b>Callable object that constructs a test suite from a list of tests. No methods on the resulting object are needed. The default value is the TestSuite class.<br><br>\n",
    "> <b>TextTestRunner()</b> - A basic test runner implementation which prints results on standard error. It has a few configurable parameters, but is essentially very simple. \n",
    "Verbosity - one of the configurable property which takes an integer value from 0 to 2, higher the value, higher the level of details."
   ]
  },
  {
   "cell_type": "code",
   "execution_count": null,
   "metadata": {},
   "outputs": [],
   "source": [
    "import unittest\n",
    "#make necessery imports\n",
    "if __name__ == \"__main__\":\n",
    "    # import sys;sys.argv = ['', 'Test.testName']\n",
    "    unittest.main()\n",
    "    #get all tests from TestCircle\n",
    "    tc1=unittest.TestLoader().loadTestsFromTestCase(TestCircle)\n",
    "    \n",
    "    # create a test suite combining tc1 \n",
    "    test_suite = unittest.TestSuite([tc1]) \n",
    "    # run the suite\n",
    "    unittest.TextTestRunner(verbosity=1).run(test_suite)"
   ]
  },
  {
   "cell_type": "markdown",
   "metadata": {},
   "source": [
    "### Test Suite Execution in Selenium"
   ]
  },
  {
   "cell_type": "code",
   "execution_count": null,
   "metadata": {},
   "outputs": [],
   "source": [
    "import unittest\n",
    "from TestCases_PackGo.TestCase1 import Login \n",
    "from TestCases_PackGo.TestCase2 import SignUp\n",
    "if __name__ == \"__main__\":\n",
    "    # import sys;sys.argv = ['', 'Test.testName']\n",
    "    unittest.main()\n",
    "    #get all tests from Login and SignUp class\n",
    "    tc1=unittest.TestLoader().loadTestsFromTestCase(Login)\n",
    "    tc2=unittest.TestLoader().loadTestsFromTestCase(SignUp)\n",
    "    # create a test suite combining tc1 and tc2\n",
    "    test_suite = unittest.TestSuite([tc1,tc2]) \n",
    "    # run the suite\n",
    "    unittest.TextTestRunner(verbosity=1).run(test_suite)\n"
   ]
  },
  {
   "cell_type": "markdown",
   "metadata": {},
   "source": [
    "### 11. HTML Reports\n",
    "Install this package in python <b>pip install html-testRunner</b>"
   ]
  },
  {
   "cell_type": "code",
   "execution_count": null,
   "metadata": {},
   "outputs": [],
   "source": [
    "import unittest\n",
    "import HtmlTestRunner\n",
    "import os\n",
    "from selenium import webdriver\n",
    "from selenium.webdriver.chrome.service import Service\n",
    "from webdriver_manager.chrome import ChromeDriverManager\n",
    "\n",
    "url=\"https://www.google.co.in/\"\n",
    "\n",
    "class Test(unittest.TestCase):\n",
    "    \n",
    "    def setUp(self):\n",
    "        self.driver=webdriver.Chrome(service=Service(ChromeDriverManager().install()))\n",
    "        self.driver.get(url)\n",
    "        self.driver.maximize_window()\n",
    "        \n",
    "    def tearDown(self):\n",
    "        self.driver.quit()\n",
    "        \n",
    "    def testName(self):\n",
    "        print('test')\n",
    "    \n",
    "    def testName2(self):\n",
    "        self.skipTest(\"intentional skip\")\n",
    "    \n",
    "if __name__=='__main__':\n",
    "    dir=os.getcwd()\n",
    "    unittest.main(testRunner=HtmlTestRunner.HTMLTestRunner(output=dir+'/report/', # Store the output in this directory\n",
    "                                            report_title='HTML Reporting in unittest', # Title of the report\n",
    "                                            descriptions='HTML Reporting using HTMLTestRunner')) # description of the test"
   ]
  }
 ],
 "metadata": {
  "kernelspec": {
   "display_name": "Python 3 (ipykernel)",
   "language": "python",
   "name": "python3"
  },
  "language_info": {
   "codemirror_mode": {
    "name": "ipython",
    "version": 3
   },
   "file_extension": ".py",
   "mimetype": "text/x-python",
   "name": "python",
   "nbconvert_exporter": "python",
   "pygments_lexer": "ipython3",
   "version": "3.9.7"
  }
 },
 "nbformat": 4,
 "nbformat_minor": 2
}
